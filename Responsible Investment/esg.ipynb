{
 "cells": [
  {
   "cell_type": "code",
   "execution_count": null,
   "id": "2cdf410b",
   "metadata": {},
   "outputs": [],
   "source": []
  },
  {
   "cell_type": "markdown",
   "id": "d4e2a0d1",
   "metadata": {},
   "source": [
    "# Stratégie ESG quantitative  (optimisation d'un ou plusieurs critères ESG)\n",
    "\n",
    "Etape1: Exclusion normatives et sectorielle\n",
    "    - Exclusion des entreprises non signataires de l'UNGC ou ne respectant pas l'UNGC\n",
    "    - Exclusion des entreprises pratiquant des activités controversées\n",
    "\n",
    "Etape2: Intégration des critères ESG\n",
    "    - Identification des entreprises du CAC40 ESG et des notes E, S et G y afférentes\n",
    "    - Détermination des médianes des notes E, S et G de ces entreprises. Celles-ci constituerons des benchmarks\n",
    "    - Filtrer parmi les entreprises retenues à l'étape 1, celles dont les scores E, S et G sont supérieurs aux benchmarks\n",
    "\n"
   ]
  },
  {
   "cell_type": "code",
   "execution_count": null,
   "id": "1eda39b2",
   "metadata": {},
   "outputs": [],
   "source": []
  },
  {
   "cell_type": "code",
   "execution_count": 1,
   "id": "3289b5bd-6ce2-40ac-b444-f5fb18ea9081",
   "metadata": {},
   "outputs": [],
   "source": [
    "import pandas as pd\n",
    "import matplotlib.pyplot as plt\n",
    "import seaborn as sns\n",
    "import numpy as np"
   ]
  },
  {
   "cell_type": "code",
   "execution_count": 2,
   "id": "c543efcb-dedb-4c40-be71-f7f54ef9dfea",
   "metadata": {},
   "outputs": [
    {
     "name": "stdout",
     "output_type": "stream",
     "text": [
      "Requirement already satisfied: openpyxl in d:\\deb\\ensai\\cours3a\\11. asset management\\lab\\script\\.venv\\lib\\site-packages (3.1.5)\n",
      "Requirement already satisfied: et-xmlfile in d:\\deb\\ensai\\cours3a\\11. asset management\\lab\\script\\.venv\\lib\\site-packages (from openpyxl) (2.0.0)\n"
     ]
    },
    {
     "name": "stderr",
     "output_type": "stream",
     "text": [
      "\n",
      "[notice] A new release of pip is available: 25.0 -> 25.0.1\n",
      "[notice] To update, run: python.exe -m pip install --upgrade pip\n"
     ]
    }
   ],
   "source": [
    "!pip install openpyxl"
   ]
  },
  {
   "cell_type": "markdown",
   "id": "366135f8",
   "metadata": {},
   "source": [
    "Ici on veut déterminer le score ESG du CAC40 ESG. Pour ce faire, nous allons identifier les entreprise qui composent cet indice, puis déterminer les scores E, S et G moyens. Ceux-ci serviront de seuils de scores pour les entreprises qui constitueront notre portefeuille. Procédant de cette manière le score ESG du portefeuille sera au moins égal à celui du CAC 40 ESG.0"
   ]
  },
  {
   "cell_type": "markdown",
   "id": "4073bd74",
   "metadata": {},
   "source": [
    "Qu’est-ce que le CAC 40 ESG ?\n",
    "En 2021, Euronext a annoncé le lancement du CAC 40 ESG, conçu pour identifier les 40 entreprises du CAC Large 60 présentant les meilleures pratiques en matière de critères ESG. Le CAC 40 ESG est devenu ainsi le premier indice ESG national d'Euronext. En partenariat avec Vigeo Eiris (V.E), une filiale de Moody’s, Euronext a évalué les pratiques ESG des entreprises pour composer cet indice (une note sur 100 sur 38 critères, méthodologie à retrouver ici). La méthodologie de l'indice est alignée avec le label ISR français et les principes du Pacte Mondial des Nations Unies, incluant des critères de classement relatifs \"Best-in-class\". Cela veut dire que les entreprises ayant les meilleurs scores parmi le CAC Large 60 sont sélectionnées, sans que ces secteurs n’aient forcément de contribution directe à la transition. Ensuite, les filtres d'exclusions sont appliqués. Concrètement, les entreprises impliquées dans le charbon (+5% d’activités dans les énergies fossiles), les armes controversées ou le tabac (+10% de l’activité) sont exclues, pour donner quelques exemples.\n",
    "\n",
    "https://blog.goodvest.fr/articles/le-cac-40-esg-un-pas-vers-linvestissement-durable"
   ]
  },
  {
   "cell_type": "code",
   "execution_count": 3,
   "id": "9959edd8-fdf7-4b58-a048-af25b5ccba77",
   "metadata": {},
   "outputs": [
    {
     "name": "stdout",
     "output_type": "stream",
     "text": [
      "Nombre d'entreprises restantes:\t 4880\n"
     ]
    }
   ],
   "source": [
    "score_esg = pd.read_excel('details_ESG.xlsx')\n",
    "univers = pd.read_excel(\"Univers d'investissement_Monde.xlsx\")\n",
    "\n",
    "univers = univers.merge(score_esg[[\"ISIN\",\"ESG ENV\", \"ESG SOCscore\", \"ESG GOV\", \"Global\"]], on=\"ISIN\", how=\"inner\")\n",
    "print(\"Nombre d'entreprises restantes:\\t\",len(univers[\"ISIN\"].unique()))"
   ]
  },
  {
   "cell_type": "markdown",
   "id": "e87b6fce",
   "metadata": {},
   "source": [
    "Récupération des entreprises du CAC 40 ESG."
   ]
  },
  {
   "cell_type": "code",
   "execution_count": 4,
   "id": "86d4300a",
   "metadata": {},
   "outputs": [],
   "source": [
    "cac40_esg = pd.read_csv(\"CAC40 ESG.csv\")\n",
    "cac40_esg = cac40_esg.merge(score_esg, on=\"ISIN\", how=\"inner\" )\n",
    "cac40_esg = cac40_esg[[\"ISIN\",\"ESG ENV\", \"ESG SOCscore\", \"ESG GOV\", \"Global\"]]"
   ]
  },
  {
   "cell_type": "code",
   "execution_count": 5,
   "id": "86a471c9",
   "metadata": {},
   "outputs": [
    {
     "data": {
      "text/plain": [
       "<Axes: >"
      ]
     },
     "execution_count": 5,
     "metadata": {},
     "output_type": "execute_result"
    },
    {
     "data": {
      "image/png": "[encoded data removed]",
      "text/plain": [
       "<Figure size 640x480 with 1 Axes>"
      ]
     },
     "metadata": {},
     "output_type": "display_data"
    }
   ],
   "source": [
    "cac40_esg.describe()\n",
    "sns.boxplot(cac40_esg)"
   ]
  },
  {
   "cell_type": "code",
   "execution_count": 6,
   "id": "c1927fbc",
   "metadata": {},
   "outputs": [],
   "source": [
    "# Exclusion normative\n",
    "# Exclusion des entrprises non signataires de l'UNGC et de celle qui ne respectent pas l'UNGC"
   ]
  },
  {
   "cell_type": "code",
   "execution_count": 7,
   "id": "afed46f6-ac7b-4a24-98d5-8ad4ce211c8c",
   "metadata": {},
   "outputs": [
    {
     "name": "stdout",
     "output_type": "stream",
     "text": [
      "Nombre d'entreprises restantes:\t 1119\n"
     ]
    }
   ],
   "source": [
    "un_global = pd.read_excel('UN Global Compact.xlsx')\n",
    "un_global = un_global[(un_global[\"Signataire de l\\'UNGC\"]==\"Oui\")&(un_global[\"Non-Respect de l\\'UNGC\"]==\"Non\")]\n",
    "univers = univers.merge(un_global[[\"ISIN\"]], on=\"ISIN\", how=\"inner\")\n",
    "\n",
    "print(\"Nombre d'entreprises restantes:\\t\",len(univers[\"ISIN\"].unique()))"
   ]
  },
  {
   "cell_type": "code",
   "execution_count": 8,
   "id": "da7ba982",
   "metadata": {},
   "outputs": [],
   "source": [
    "# Exclusion des entreprises pratiquent des activités controversées"
   ]
  },
  {
   "cell_type": "code",
   "execution_count": 9,
   "id": "116ec49d-afbe-46b0-b621-165d0ff47583",
   "metadata": {},
   "outputs": [],
   "source": [
    "act_controverses = pd.read_excel('Activités Controversées.xlsx')"
   ]
  },
  {
   "cell_type": "code",
   "execution_count": 10,
   "id": "6d7501b9",
   "metadata": {},
   "outputs": [],
   "source": [
    "controverse = ['Alcool',\n",
    " 'Activités nuisant au bienêtre animal (tests, fourrure, etc)',\n",
    " 'Produits chimiques controversés',\n",
    " \"Jeux d'argents et de hasard\",\n",
    " 'Organismes genertiquement modifiés',\n",
    " 'Prêts usuriers',\n",
    " 'Energie Nucléaire',\n",
    " 'Divertissements pour Adultes',\n",
    " 'Medecine reproductive',\n",
    " 'Tabac',\n",
    " 'Energies fossiles (Overall)',\n",
    " 'Charbon',\n",
    " 'Fossile non conventionnel',\n",
    " 'Armes à feu civiles',\n",
    " 'Matériel Militaire',\n",
    " 'Armement controversé (Armes de destruction massive)']"
   ]
  },
  {
   "cell_type": "code",
   "execution_count": 11,
   "id": "81bc7809",
   "metadata": {},
   "outputs": [
    {
     "name": "stdout",
     "output_type": "stream",
     "text": [
      "Nombre d'entreprises restantes:\t 788\n"
     ]
    }
   ],
   "source": [
    "act_controverses = act_controverses[(act_controverses[controverse] == \"Non\").all(axis=1)]\n",
    "univers = univers.merge(act_controverses[[\"ISIN\"]], on=\"ISIN\", how=\"inner\")\n",
    "\n",
    "print(\"Nombre d'entreprises restantes:\\t\",len(univers[\"ISIN\"].unique()))"
   ]
  },
  {
   "cell_type": "code",
   "execution_count": 12,
   "id": "8fd18620",
   "metadata": {},
   "outputs": [],
   "source": [
    "## Prise en compte des critères ESG via une stratégie best in univers\n",
    "## On retient les entreprises qui ont des scores E, S, et G supérieurs à la médiane des scores E, S, G des entreprises du  CAC40 ESG"
   ]
  },
  {
   "cell_type": "code",
   "execution_count": 13,
   "id": "318cc570",
   "metadata": {},
   "outputs": [],
   "source": [
    "seuils_esg = cac40_esg[[\"ESG ENV\", \"ESG SOCscore\", \"ESG GOV\"]].quantile(0.5)"
   ]
  },
  {
   "cell_type": "code",
   "execution_count": 14,
   "id": "38888770",
   "metadata": {},
   "outputs": [],
   "source": [
    "univers = univers[(univers[\"ESG ENV\"]>=seuils_esg[\"ESG ENV\"])&\n",
    "                  (univers[\"ESG SOCscore\"]>=seuils_esg[\"ESG SOCscore\"])&\n",
    "                  (univers[\"ESG GOV\"]>=seuils_esg[\"ESG GOV\"])\n",
    "                ]"
   ]
  },
  {
   "cell_type": "code",
   "execution_count": 15,
   "id": "ee80fb44-5cad-4909-bc5e-11f92c5c22b9",
   "metadata": {},
   "outputs": [
    {
     "name": "stdout",
     "output_type": "stream",
     "text": [
      "Nombre d'entreprises restantes:\t 23\n"
     ]
    }
   ],
   "source": [
    "print(\"Nombre d'entreprises restantes:\\t\",len(univers[\"ISIN\"].unique()))\n"
   ]
  },
  {
   "cell_type": "code",
   "execution_count": 16,
   "id": "80b0e9d3",
   "metadata": {},
   "outputs": [
    {
     "data": {
      "text/html": [
       "<div>\n",
       "<style scoped>\n",
       "    .dataframe tbody tr th:only-of-type {\n",
       "        vertical-align: middle;\n",
       "    }\n",
       "\n",
       "    .dataframe tbody tr th {\n",
       "        vertical-align: top;\n",
       "    }\n",
       "\n",
       "    .dataframe thead th {\n",
       "        text-align: right;\n",
       "    }\n",
       "</style>\n",
       "<table border=\"1\" class=\"dataframe\">\n",
       "  <thead>\n",
       "    <tr style=\"text-align: right;\">\n",
       "      <th></th>\n",
       "      <th>ESG ENV</th>\n",
       "      <th>ESG SOCscore</th>\n",
       "      <th>ESG GOV</th>\n",
       "      <th>Global</th>\n",
       "    </tr>\n",
       "  </thead>\n",
       "  <tbody>\n",
       "    <tr>\n",
       "      <th>count</th>\n",
       "      <td>23.000000</td>\n",
       "      <td>23.000000</td>\n",
       "      <td>23.000000</td>\n",
       "      <td>23.000000</td>\n",
       "    </tr>\n",
       "    <tr>\n",
       "      <th>mean</th>\n",
       "      <td>73.217391</td>\n",
       "      <td>67.913043</td>\n",
       "      <td>66.043478</td>\n",
       "      <td>68.347826</td>\n",
       "    </tr>\n",
       "    <tr>\n",
       "      <th>std</th>\n",
       "      <td>6.775333</td>\n",
       "      <td>5.509604</td>\n",
       "      <td>6.108699</td>\n",
       "      <td>3.549759</td>\n",
       "    </tr>\n",
       "    <tr>\n",
       "      <th>min</th>\n",
       "      <td>65.000000</td>\n",
       "      <td>61.000000</td>\n",
       "      <td>58.000000</td>\n",
       "      <td>61.000000</td>\n",
       "    </tr>\n",
       "    <tr>\n",
       "      <th>25%</th>\n",
       "      <td>67.000000</td>\n",
       "      <td>63.500000</td>\n",
       "      <td>60.500000</td>\n",
       "      <td>66.000000</td>\n",
       "    </tr>\n",
       "    <tr>\n",
       "      <th>50%</th>\n",
       "      <td>72.000000</td>\n",
       "      <td>67.000000</td>\n",
       "      <td>65.000000</td>\n",
       "      <td>68.000000</td>\n",
       "    </tr>\n",
       "    <tr>\n",
       "      <th>75%</th>\n",
       "      <td>77.500000</td>\n",
       "      <td>72.000000</td>\n",
       "      <td>71.000000</td>\n",
       "      <td>70.000000</td>\n",
       "    </tr>\n",
       "    <tr>\n",
       "      <th>max</th>\n",
       "      <td>91.000000</td>\n",
       "      <td>80.000000</td>\n",
       "      <td>77.000000</td>\n",
       "      <td>76.000000</td>\n",
       "    </tr>\n",
       "  </tbody>\n",
       "</table>\n",
       "</div>"
      ],
      "text/plain": [
       "         ESG ENV  ESG SOCscore    ESG GOV     Global\n",
       "count  23.000000     23.000000  23.000000  23.000000\n",
       "mean   73.217391     67.913043  66.043478  68.347826\n",
       "std     6.775333      5.509604   6.108699   3.549759\n",
       "min    65.000000     61.000000  58.000000  61.000000\n",
       "25%    67.000000     63.500000  60.500000  66.000000\n",
       "50%    72.000000     67.000000  65.000000  68.000000\n",
       "75%    77.500000     72.000000  71.000000  70.000000\n",
       "max    91.000000     80.000000  77.000000  76.000000"
      ]
     },
     "execution_count": 16,
     "metadata": {},
     "output_type": "execute_result"
    }
   ],
   "source": [
    "univers.describe()"
   ]
  },
  {
   "cell_type": "code",
   "execution_count": 17,
   "id": "0065235b-a820-4f07-a88f-5bbe1586d07b",
   "metadata": {},
   "outputs": [
    {
     "name": "stdout",
     "output_type": "stream",
     "text": [
      "       Country  NombreEntreprises  TauxEntreprises\n",
      "0    Australia                  1         0.043478\n",
      "1      Finland                  1         0.043478\n",
      "2       France                 12         0.521739\n",
      "3      Germany                  1         0.043478\n",
      "4        Italy                  3         0.130435\n",
      "5  Netherlands                  2         0.086957\n",
      "6        Spain                  3         0.130435\n"
     ]
    }
   ],
   "source": [
    "nombre_entreprises_par_zone = univers.groupby('Country')['Title'].count().reset_index(name='NombreEntreprises')\n",
    "\n",
    "# Calcul du taux d'entreprises par zone d'activité\n",
    "nombre_total_entreprises = nombre_entreprises_par_zone['NombreEntreprises'].sum()\n",
    "nombre_entreprises_par_zone['TauxEntreprises'] = nombre_entreprises_par_zone['NombreEntreprises'] / nombre_total_entreprises\n",
    "\n",
    "# Afficher le résultat\n",
    "print(nombre_entreprises_par_zone)"
   ]
  },
  {
   "cell_type": "code",
   "execution_count": 18,
   "id": "5f74e4bb",
   "metadata": {},
   "outputs": [
    {
     "data": {
      "text/html": [
       "<div>\n",
       "<style scoped>\n",
       "    .dataframe tbody tr th:only-of-type {\n",
       "        vertical-align: middle;\n",
       "    }\n",
       "\n",
       "    .dataframe tbody tr th {\n",
       "        vertical-align: top;\n",
       "    }\n",
       "\n",
       "    .dataframe thead th {\n",
       "        text-align: right;\n",
       "    }\n",
       "</style>\n",
       "<table border=\"1\" class=\"dataframe\">\n",
       "  <thead>\n",
       "    <tr style=\"text-align: right;\">\n",
       "      <th></th>\n",
       "      <th>ISIN</th>\n",
       "      <th>Bloomberg Ticker</th>\n",
       "      <th>Title</th>\n",
       "      <th>Sector zone</th>\n",
       "      <th>Country</th>\n",
       "      <th>Zone</th>\n",
       "      <th>ESG ENV</th>\n",
       "      <th>ESG SOCscore</th>\n",
       "      <th>ESG GOV</th>\n",
       "      <th>Global</th>\n",
       "    </tr>\n",
       "  </thead>\n",
       "  <tbody>\n",
       "    <tr>\n",
       "      <th>6</th>\n",
       "      <td>NL0011540547</td>\n",
       "      <td>ABN</td>\n",
       "      <td>Abn Amro Bank</td>\n",
       "      <td>Diversified Banks</td>\n",
       "      <td>Netherlands</td>\n",
       "      <td>EUR</td>\n",
       "      <td>76</td>\n",
       "      <td>67</td>\n",
       "      <td>58</td>\n",
       "      <td>66</td>\n",
       "    </tr>\n",
       "    <tr>\n",
       "      <th>15</th>\n",
       "      <td>FR0010340141</td>\n",
       "      <td>ADP</td>\n",
       "      <td>Aeroports de Paris</td>\n",
       "      <td>Transport &amp; Logistics</td>\n",
       "      <td>France</td>\n",
       "      <td>EUR</td>\n",
       "      <td>77</td>\n",
       "      <td>64</td>\n",
       "      <td>59</td>\n",
       "      <td>64</td>\n",
       "    </tr>\n",
       "    <tr>\n",
       "      <th>19</th>\n",
       "      <td>XS1046325640</td>\n",
       "      <td>NaN</td>\n",
       "      <td>Agence Francaise de Developpement</td>\n",
       "      <td>Specific Purpose Banks &amp; Agencies</td>\n",
       "      <td>France</td>\n",
       "      <td>EUR</td>\n",
       "      <td>67</td>\n",
       "      <td>80</td>\n",
       "      <td>70</td>\n",
       "      <td>74</td>\n",
       "    </tr>\n",
       "    <tr>\n",
       "      <th>38</th>\n",
       "      <td>FR0004125920</td>\n",
       "      <td>AMUN</td>\n",
       "      <td>Amundi</td>\n",
       "      <td>Financial Services - General</td>\n",
       "      <td>France</td>\n",
       "      <td>EUR</td>\n",
       "      <td>82</td>\n",
       "      <td>70</td>\n",
       "      <td>63</td>\n",
       "      <td>70</td>\n",
       "    </tr>\n",
       "    <tr>\n",
       "      <th>71</th>\n",
       "      <td>FR0000120628</td>\n",
       "      <td>CS</td>\n",
       "      <td>Axa</td>\n",
       "      <td>Insurance</td>\n",
       "      <td>France</td>\n",
       "      <td>EUR</td>\n",
       "      <td>81</td>\n",
       "      <td>63</td>\n",
       "      <td>72</td>\n",
       "      <td>69</td>\n",
       "    </tr>\n",
       "  </tbody>\n",
       "</table>\n",
       "</div>"
      ],
      "text/plain": [
       "            ISIN Bloomberg Ticker                              Title  \\\n",
       "6   NL0011540547              ABN                      Abn Amro Bank   \n",
       "15  FR0010340141              ADP                 Aeroports de Paris   \n",
       "19  XS1046325640              NaN  Agence Francaise de Developpement   \n",
       "38  FR0004125920             AMUN                             Amundi   \n",
       "71  FR0000120628               CS                                Axa   \n",
       "\n",
       "                          Sector zone      Country Zone  ESG ENV  \\\n",
       "6                   Diversified Banks  Netherlands  EUR       76   \n",
       "15              Transport & Logistics       France  EUR       77   \n",
       "19  Specific Purpose Banks & Agencies       France  EUR       67   \n",
       "38       Financial Services - General       France  EUR       82   \n",
       "71                          Insurance       France  EUR       81   \n",
       "\n",
       "    ESG SOCscore  ESG GOV  Global  \n",
       "6             67       58      66  \n",
       "15            64       59      64  \n",
       "19            80       70      74  \n",
       "38            70       63      70  \n",
       "71            63       72      69  "
      ]
     },
     "execution_count": 18,
     "metadata": {},
     "output_type": "execute_result"
    }
   ],
   "source": [
    "univers.head()"
   ]
  },
  {
   "cell_type": "code",
   "execution_count": 19,
   "id": "831cadf3-6c3e-4993-90d4-195a96d4be1b",
   "metadata": {},
   "outputs": [
    {
     "name": "stdout",
     "output_type": "stream",
     "text": [
      "                                      Sector zone  NombreEntreprises  \\\n",
      "0                                     Automobiles                  2   \n",
      "1                               Diversified Banks                  3   \n",
      "2                        Electric & Gas Utilities                  2   \n",
      "3                 Electric Components & Equipment                  1   \n",
      "4                    Financial Services - General                  1   \n",
      "5                Financial Services - Real Estate                  2   \n",
      "6   Financial Services - Real Estate Asia Pacific                  1   \n",
      "7                         Forest Products & Paper                  1   \n",
      "8                                       Insurance                  1   \n",
      "9                          Software & IT Services                  1   \n",
      "10              Specific Purpose Banks & Agencies                  2   \n",
      "11                             Telecommunications                  2   \n",
      "12                          Transport & Logistics                  2   \n",
      "13                               Travel & Tourism                  1   \n",
      "14                        Waste & Water Utilities                  1   \n",
      "\n",
      "    TauxEntreprises  \n",
      "0          0.086957  \n",
      "1          0.130435  \n",
      "2          0.086957  \n",
      "3          0.043478  \n",
      "4          0.043478  \n",
      "5          0.086957  \n",
      "6          0.043478  \n",
      "7          0.043478  \n",
      "8          0.043478  \n",
      "9          0.043478  \n",
      "10         0.086957  \n",
      "11         0.086957  \n",
      "12         0.086957  \n",
      "13         0.043478  \n",
      "14         0.043478  \n"
     ]
    }
   ],
   "source": [
    "nombre_entreprises_par_secteur = univers.groupby('Sector zone')['Title'].count().reset_index(name='NombreEntreprises')\n",
    "\n",
    "# Calcul du taux d'entreprises par zone d'activité\n",
    "nombre_total_entreprises = nombre_entreprises_par_secteur['NombreEntreprises'].sum()\n",
    "nombre_entreprises_par_secteur['TauxEntreprises'] = nombre_entreprises_par_secteur['NombreEntreprises'] / nombre_total_entreprises\n",
    "\n",
    "# Afficher le résultat\n",
    "print(nombre_entreprises_par_secteur)"
   ]
  },
  {
   "cell_type": "code",
   "execution_count": 20,
   "id": "22fae293-e068-4539-8632-f9a4272bd527",
   "metadata": {},
   "outputs": [
    {
     "data": {
      "text/plain": [
       "6      EUR\n",
       "15     EUR\n",
       "19     EUR\n",
       "38     EUR\n",
       "71     EUR\n",
       "117    EUR\n",
       "172    EUR\n",
       "175    EUR\n",
       "201    EUR\n",
       "333    EUR\n",
       "389    EUR\n",
       "438    EUR\n",
       "539    EUR\n",
       "558    EUR\n",
       "616    EUR\n",
       "632    EUR\n",
       "633    EUR\n",
       "658    EUR\n",
       "661    EUR\n",
       "691    EUR\n",
       "706    EUR\n",
       "740    EUR\n",
       "741     AP\n",
       "Name: Zone, dtype: object"
      ]
     },
     "execution_count": 20,
     "metadata": {},
     "output_type": "execute_result"
    }
   ],
   "source": [
    "univers['Zone']"
   ]
  },
  {
   "cell_type": "code",
   "execution_count": 21,
   "id": "e7cbd9f1-efde-4bc4-ab9d-2496af5f8dcf",
   "metadata": {},
   "outputs": [
    {
     "name": "stdout",
     "output_type": "stream",
     "text": [
      "  Zone  NombreEntreprises  TauxEntreprises\n",
      "0   AP                  1         0.043478\n",
      "1  EUR                 22         0.956522\n"
     ]
    }
   ],
   "source": [
    "nombre_entreprises_par_zone = univers.groupby('Zone')['Title'].count().reset_index(name='NombreEntreprises')\n",
    "\n",
    "# Calcul du taux d'entreprises par zone d'activité\n",
    "nombre_total_entreprises = nombre_entreprises_par_zone['NombreEntreprises'].sum()\n",
    "nombre_entreprises_par_zone['TauxEntreprises'] = nombre_entreprises_par_zone['NombreEntreprises'] / nombre_total_entreprises\n",
    "\n",
    "# Afficher le résultat\n",
    "print(nombre_entreprises_par_zone)"
   ]
  },
  {
   "cell_type": "code",
   "execution_count": 22,
   "id": "5af66f8b-76d5-40c8-85a2-e6a7474c3531",
   "metadata": {},
   "outputs": [
    {
     "data": {
      "image/png": "[encoded data removed]",
      "text/plain": [
       "<Figure size 640x480 with 1 Axes>"
      ]
     },
     "metadata": {},
     "output_type": "display_data"
    }
   ],
   "source": [
    "# Create a bar plot\n",
    "plt.barh(nombre_entreprises_par_zone['Zone'], nombre_entreprises_par_zone['TauxEntreprises']*100, color='blue')\n",
    "for index, value in enumerate(nombre_entreprises_par_zone['TauxEntreprises']*100):\n",
    "    plt.text( value,index, str(round(value)), ha='left', va='bottom')\n",
    "# Add labels and title\n",
    "plt.ylabel('Zones')\n",
    "plt.xlabel('Pourcentages (%)')\n",
    "plt.title('Taux d\\'entreprises par zone')\n",
    "plt.show()\n"
   ]
  },
  {
   "cell_type": "code",
   "execution_count": 23,
   "id": "7c0c117b-32b9-4706-8c43-75e7107ba68c",
   "metadata": {},
   "outputs": [
    {
     "data": {
      "image/png": "[encoded data removed]",
      "text/plain": [
       "<Figure size 640x480 with 1 Axes>"
      ]
     },
     "metadata": {},
     "output_type": "display_data"
    }
   ],
   "source": [
    "plt.barh(nombre_entreprises_par_secteur['Sector zone'], nombre_entreprises_par_secteur['TauxEntreprises']*100, color='blue')\n",
    "for index, value in enumerate(nombre_entreprises_par_secteur['TauxEntreprises']*100):\n",
    "    plt.text( value,index, str(round(value)), ha='left', va='bottom')\n",
    "# Add labels and title\n",
    "plt.ylabel('Secteurs')\n",
    "plt.xlabel('Pourcentages (%)')\n",
    "plt.title('Taux d\\'entreprises par secteurs')\n",
    "plt.show()"
   ]
  },
  {
   "cell_type": "code",
   "execution_count": 24,
   "id": "dc5929b0-130b-4ae9-a727-a9957ab01ad2",
   "metadata": {},
   "outputs": [
    {
     "data": {
      "text/plain": [
       "6                              Abn Amro Bank\n",
       "15                        Aeroports de Paris\n",
       "19         Agence Francaise de Developpement\n",
       "38                                    Amundi\n",
       "71                                       Axa\n",
       "117                        Caisse des Dépôts\n",
       "172                    Cooperatieve Rabobank\n",
       "175                                  Covivio\n",
       "201                         Deutsche Telekom\n",
       "333                           Indra Sistemas\n",
       "389                                 La Poste\n",
       "438                                 Michelin\n",
       "539                              Pirelli & C\n",
       "558                            Red Electrica\n",
       "616          Siemens Gamesa Renewable Energy\n",
       "632                                     SNCF\n",
       "633                         Societe Generale\n",
       "658                               Stora Enso\n",
       "661                                     Suez\n",
       "691                           Telecom Italia\n",
       "706                                    Terna\n",
       "740                Unibail-Rodamco-Westfield\n",
       "741    Unibail-Rodamco-Westfield (Australia)\n",
       "Name: Title, dtype: object"
      ]
     },
     "execution_count": 24,
     "metadata": {},
     "output_type": "execute_result"
    }
   ],
   "source": [
    "univers['Title']"
   ]
  },
  {
   "cell_type": "code",
   "execution_count": 25,
   "id": "292248d7-e39f-445d-83db-f6d892cd3cb6",
   "metadata": {},
   "outputs": [],
   "source": [
    "univers = univers.sort_values(by='Global',ascending = False)"
   ]
  },
  {
   "cell_type": "code",
   "execution_count": 26,
   "id": "403f36ed-8cc0-4a59-a0cf-105d95b06de0",
   "metadata": {},
   "outputs": [],
   "source": [
    "univers['ponderation'] = 100 * univers['Global']/np.sum(univers['Global'])"
   ]
  },
  {
   "cell_type": "code",
   "execution_count": 27,
   "id": "fe838f86-715a-42de-a208-26cde3acef9e",
   "metadata": {},
   "outputs": [
    {
     "data": {
      "text/html": [
       "<div>\n",
       "<style scoped>\n",
       "    .dataframe tbody tr th:only-of-type {\n",
       "        vertical-align: middle;\n",
       "    }\n",
       "\n",
       "    .dataframe tbody tr th {\n",
       "        vertical-align: top;\n",
       "    }\n",
       "\n",
       "    .dataframe thead th {\n",
       "        text-align: right;\n",
       "    }\n",
       "</style>\n",
       "<table border=\"1\" class=\"dataframe\">\n",
       "  <thead>\n",
       "    <tr style=\"text-align: right;\">\n",
       "      <th></th>\n",
       "      <th>Title</th>\n",
       "      <th>ponderation</th>\n",
       "    </tr>\n",
       "  </thead>\n",
       "  <tbody>\n",
       "    <tr>\n",
       "      <th>389</th>\n",
       "      <td>La Poste</td>\n",
       "      <td>4.834606</td>\n",
       "    </tr>\n",
       "    <tr>\n",
       "      <th>632</th>\n",
       "      <td>SNCF</td>\n",
       "      <td>4.707379</td>\n",
       "    </tr>\n",
       "    <tr>\n",
       "      <th>19</th>\n",
       "      <td>Agence Francaise de Developpement</td>\n",
       "      <td>4.707379</td>\n",
       "    </tr>\n",
       "    <tr>\n",
       "      <th>117</th>\n",
       "      <td>Caisse des Dépôts</td>\n",
       "      <td>4.580153</td>\n",
       "    </tr>\n",
       "    <tr>\n",
       "      <th>175</th>\n",
       "      <td>Covivio</td>\n",
       "      <td>4.516539</td>\n",
       "    </tr>\n",
       "    <tr>\n",
       "      <th>38</th>\n",
       "      <td>Amundi</td>\n",
       "      <td>4.452926</td>\n",
       "    </tr>\n",
       "    <tr>\n",
       "      <th>661</th>\n",
       "      <td>Suez</td>\n",
       "      <td>4.452926</td>\n",
       "    </tr>\n",
       "    <tr>\n",
       "      <th>741</th>\n",
       "      <td>Unibail-Rodamco-Westfield (Australia)</td>\n",
       "      <td>4.389313</td>\n",
       "    </tr>\n",
       "    <tr>\n",
       "      <th>71</th>\n",
       "      <td>Axa</td>\n",
       "      <td>4.389313</td>\n",
       "    </tr>\n",
       "    <tr>\n",
       "      <th>740</th>\n",
       "      <td>Unibail-Rodamco-Westfield</td>\n",
       "      <td>4.389313</td>\n",
       "    </tr>\n",
       "    <tr>\n",
       "      <th>706</th>\n",
       "      <td>Terna</td>\n",
       "      <td>4.325700</td>\n",
       "    </tr>\n",
       "    <tr>\n",
       "      <th>658</th>\n",
       "      <td>Stora Enso</td>\n",
       "      <td>4.325700</td>\n",
       "    </tr>\n",
       "    <tr>\n",
       "      <th>633</th>\n",
       "      <td>Societe Generale</td>\n",
       "      <td>4.325700</td>\n",
       "    </tr>\n",
       "    <tr>\n",
       "      <th>438</th>\n",
       "      <td>Michelin</td>\n",
       "      <td>4.325700</td>\n",
       "    </tr>\n",
       "    <tr>\n",
       "      <th>616</th>\n",
       "      <td>Siemens Gamesa Renewable Energy</td>\n",
       "      <td>4.262087</td>\n",
       "    </tr>\n",
       "    <tr>\n",
       "      <th>558</th>\n",
       "      <td>Red Electrica</td>\n",
       "      <td>4.262087</td>\n",
       "    </tr>\n",
       "    <tr>\n",
       "      <th>539</th>\n",
       "      <td>Pirelli &amp; C</td>\n",
       "      <td>4.198473</td>\n",
       "    </tr>\n",
       "    <tr>\n",
       "      <th>691</th>\n",
       "      <td>Telecom Italia</td>\n",
       "      <td>4.198473</td>\n",
       "    </tr>\n",
       "    <tr>\n",
       "      <th>172</th>\n",
       "      <td>Cooperatieve Rabobank</td>\n",
       "      <td>4.198473</td>\n",
       "    </tr>\n",
       "    <tr>\n",
       "      <th>6</th>\n",
       "      <td>Abn Amro Bank</td>\n",
       "      <td>4.198473</td>\n",
       "    </tr>\n",
       "    <tr>\n",
       "      <th>15</th>\n",
       "      <td>Aeroports de Paris</td>\n",
       "      <td>4.071247</td>\n",
       "    </tr>\n",
       "    <tr>\n",
       "      <th>201</th>\n",
       "      <td>Deutsche Telekom</td>\n",
       "      <td>4.007634</td>\n",
       "    </tr>\n",
       "    <tr>\n",
       "      <th>333</th>\n",
       "      <td>Indra Sistemas</td>\n",
       "      <td>3.880407</td>\n",
       "    </tr>\n",
       "  </tbody>\n",
       "</table>\n",
       "</div>"
      ],
      "text/plain": [
       "                                     Title  ponderation\n",
       "389                               La Poste     4.834606\n",
       "632                                   SNCF     4.707379\n",
       "19       Agence Francaise de Developpement     4.707379\n",
       "117                      Caisse des Dépôts     4.580153\n",
       "175                                Covivio     4.516539\n",
       "38                                  Amundi     4.452926\n",
       "661                                   Suez     4.452926\n",
       "741  Unibail-Rodamco-Westfield (Australia)     4.389313\n",
       "71                                     Axa     4.389313\n",
       "740              Unibail-Rodamco-Westfield     4.389313\n",
       "706                                  Terna     4.325700\n",
       "658                             Stora Enso     4.325700\n",
       "633                       Societe Generale     4.325700\n",
       "438                               Michelin     4.325700\n",
       "616        Siemens Gamesa Renewable Energy     4.262087\n",
       "558                          Red Electrica     4.262087\n",
       "539                            Pirelli & C     4.198473\n",
       "691                         Telecom Italia     4.198473\n",
       "172                  Cooperatieve Rabobank     4.198473\n",
       "6                            Abn Amro Bank     4.198473\n",
       "15                      Aeroports de Paris     4.071247\n",
       "201                       Deutsche Telekom     4.007634\n",
       "333                         Indra Sistemas     3.880407"
      ]
     },
     "execution_count": 27,
     "metadata": {},
     "output_type": "execute_result"
    }
   ],
   "source": [
    "univers[['Title','ponderation']]"
   ]
  },
  {
   "cell_type": "code",
   "execution_count": 28,
   "id": "32c59f04-f1b2-4379-8413-966827e87e0e",
   "metadata": {},
   "outputs": [
    {
     "data": {
      "image/png": "[encoded data removed]",
      "text/plain": [
       "<Figure size 640x480 with 1 Axes>"
      ]
     },
     "metadata": {},
     "output_type": "display_data"
    }
   ],
   "source": [
    "plt.barh(univers['Title'], univers['ponderation'], color='blue')\n",
    "for index, value in enumerate(univers['ponderation']):\n",
    "    plt.text( value,index, str(round(value)), ha='left', va='bottom')\n",
    "plt.subplots_adjust(left=0.2, right=0.9, top=0.9, bottom=0.1)\n",
    "plt.show()"
   ]
  }
 ],
 "metadata": {
  "kernelspec": {
   "display_name": ".venv",
   "language": "python",
   "name": "python3"
  },
  "language_info": {
   "codemirror_mode": {
    "name": "ipython",
    "version": 3
   },
   "file_extension": ".py",
   "mimetype": "text/x-python",
   "name": "python",
   "nbconvert_exporter": "python",
   "pygments_lexer": "ipython3",
   "version": "3.11.5"
  }
 },
 "nbformat": 4,
 "nbformat_minor": 5
}
